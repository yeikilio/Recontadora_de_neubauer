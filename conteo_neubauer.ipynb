{
 "cells": [
  {
   "cell_type": "code",
   "execution_count": 5,
   "id": "d7d29bb2",
   "metadata": {
    "scrolled": true
   },
   "outputs": [
    {
     "name": "stdout",
     "output_type": "stream",
     "text": [
      "¿Qué estás contando? : celulas\n",
      "¿Qué tipo de cuadrantes vas a contar? (Escribe 'central' o 'esquinas'): central\n",
      "Recuento de cuadrante 1: 11\n",
      "Recuento de cuadrante 2: 12\n",
      "Recuento de cuadrante 3: 9\n",
      "Recuento de cuadrante 4: 11\n",
      "Recuento de cuadrante 5: 11\n",
      "Ancho de la cámara (en mm): 1\n",
      "Alto de la cámara (en mm): 1\n",
      "Profundidad de la cámara (en mm): 0.1\n",
      "Reporte el factor de dilución (ej: para 1/50 ingrese 50): 50\n",
      "Su recuento es de: 2.70e+04 celulas/mm³\n",
      "Su recuento es de: 2.70e+07 celulas/mL\n"
     ]
    }
   ],
   "source": [
    "import math\n",
    "cosa = input(\"¿Qué estás contando? : \")\n",
    "tipo_cuadrante = input(\"¿Qué tipo de cuadrantes vas a contar? (Escribe 'central' o 'esquinas'): \").lower()\n",
    "\n",
    "if tipo_cuadrante == \"central\":\n",
    "    # Configuración para 5 cuadrantes centrales (Neubauer)\n",
    "    a = float(input(\"Recuento de cuadrante 1: \"))\n",
    "    b = float(input(\"Recuento de cuadrante 2: \"))\n",
    "    c = float(input(\"Recuento de cuadrante 3: \"))\n",
    "    d = float(input(\"Recuento de cuadrante 4: \"))\n",
    "    e = float(input(\"Recuento de cuadrante 5: \"))\n",
    "    suma_recuentos = a + b + c + d + e\n",
    "    cuadros_contados = 5  # 5 cuadrantes centrales\n",
    "    fraccion_camara = 5/25  # Fracción de la cámara contada (5 de 25 cuadrantes totales)\n",
    "else:\n",
    "    # Configuración para 4 cuadrantes de esquina\n",
    "    a = float(input(\"Recuento de cuadrante 1: \"))\n",
    "    b = float(input(\"Recuento de cuadrante 2: \"))\n",
    "    c = float(input(\"Recuento de cuadrante 3: \"))\n",
    "    d = float(input(\"Recuento de cuadrante 4: \"))\n",
    "    suma_recuentos = a + b + c + d\n",
    "    cuadros_contados = 4  # 4 cuadrantes de esquina\n",
    "    fraccion_camara = 1   # Asumiendo que son independientes (no parte de una fracción mayor)\n",
    "\n",
    "# Parámetros comunes\n",
    "ancho = float(input(\"Ancho de la cámara (en mm): \"))\n",
    "alto = float(input(\"Alto de la cámara (en mm): \"))\n",
    "profundo = float(input(\"Profundidad de la cámara (en mm): \"))\n",
    "factor_dilucion = float(input(\"Reporte el factor de dilución (ej: para 1/50 ingrese 50): \"))\n",
    "\n",
    "# Cálculos\n",
    "volumen_por_cuadrante = ancho * alto * profundo  # Volumen por cuadrante individual (mm³)\n",
    "volumen_total_contado = volumen_por_cuadrante * cuadros_contados * fraccion_camara\n",
    "mm3 = (suma_recuentos * factor_dilucion) / volumen_total_contado\n",
    "ml = mm3 * 1000  # Conversión a mL (1 mL = 1000 mm³)\n",
    "\n",
    "# Resultados en notación científica\n",
    "print(f\"Su recuento es de: {mm3:.2e} {cosa}/mm³\")\n",
    "print(f\"Su recuento es de: {ml:.2e} {cosa}/mL\")"
   ]
  },
  {
   "cell_type": "code",
   "execution_count": null,
   "id": "c2bc5b31",
   "metadata": {},
   "outputs": [],
   "source": []
  },
  {
   "cell_type": "code",
   "execution_count": null,
   "id": "1eb6e8c2",
   "metadata": {},
   "outputs": [],
   "source": []
  }
 ],
 "metadata": {
  "kernelspec": {
   "display_name": "Python 3 (ipykernel)",
   "language": "python",
   "name": "python3"
  },
  "language_info": {
   "codemirror_mode": {
    "name": "ipython",
    "version": 3
   },
   "file_extension": ".py",
   "mimetype": "text/x-python",
   "name": "python",
   "nbconvert_exporter": "python",
   "pygments_lexer": "ipython3",
   "version": "3.12.3"
  }
 },
 "nbformat": 4,
 "nbformat_minor": 5
}
